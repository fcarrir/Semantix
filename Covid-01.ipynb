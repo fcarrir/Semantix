{
 "cells": [
  {
   "cell_type": "code",
   "execution_count": null,
   "metadata": {},
   "outputs": [],
   "source": [
    "# Instalando os pacotes necessários para descompactar arquivo .rar\n",
    "!pip install unrar\n",
    "!pip install rarfile"
   ]
  },
  {
   "cell_type": "code",
   "execution_count": null,
   "metadata": {},
   "outputs": [],
   "source": [
    "import pandas as pd\n",
    "import numpy as np\n",
    "import requests\n",
    "from io import BytesIO\n",
    "import os\n",
    "import rarfile\n",
    "from pyspark.sql.types import StructType\n",
    "from pyspark.sql import SQLContext, DataFrameWriter\n",
    "from pyspark.sql.functions import *\n",
    "from pyspark.sql import Row\n",
    "from datetime import timedelta"
   ]
  },
  {
   "cell_type": "code",
   "execution_count": null,
   "metadata": {},
   "outputs": [],
   "source": [
    "# Criar um diretório para armazenar o conteúdo do arquivo\n",
    "os.makedirs(\"./covid_bash\", exist_ok=True)"
   ]
  },
  {
   "cell_type": "code",
   "execution_count": 4,
   "metadata": {},
   "outputs": [],
   "source": [
    "# Define a url\n",
    "url = \"https://mobileapps.saude.gov.br/esus-vepi/files/unAFkcaNDeXajurGB7LChj8SgQYS2ptm/04bd3419b22b9cc5c6efac2c6528100d_HIST_PAINEL_COVIDBR_06jul2021.rar\"\n",
    "\n",
    "# Faz o download do conteúdo\n",
    "filebytes = (\n",
    "    BytesIO(\n",
    "        requests\n",
    "        .get(url)\n",
    "        .content\n",
    "    )\n",
    ")\n",
    "\n",
    "# Extrair o conteúdo do rarfile\n",
    "myrar = rarfile.RarFile(filebytes)\n",
    "myrar.extractall(\"./covid_bash\")\n",
    "myrar.close()"
   ]
  },
  {
   "cell_type": "code",
   "execution_count": null,
   "metadata": {},
   "outputs": [],
   "source": [
    "!hdfs dfs -mkdir /user/fabio/data/covid_bash\n",
    "!hdfs dfs -mkdir /user/fabio/data/covid_bash/raw\n",
    "!hdfs dfs -mkdir /user/fabio/data/covid_bash/stage\n",
    "!hdfs dfs -mkdir /user/fabio/data/covid_bash/refined\n",
    "!hdfs dfs -put ./covid_bash/* /user/fabio/data/covid_bash/raw"
   ]
  },
  {
   "cell_type": "code",
   "execution_count": 5,
   "metadata": {},
   "outputs": [
    {
     "data": {
      "text/plain": [
       "StructType(List(StructField(regiao,StringType,true),StructField(estado,StringType,true),StructField(municipio,StringType,true),StructField(coduf,IntegerType,true),StructField(codmun,IntegerType,true),StructField(codRegiaoSaude,IntegerType,true),StructField(nomeRegiaoSaude,StringType,true),StructField(data,DateType,true),StructField(semanaEpi,IntegerType,true),StructField(populacaoTCU2019,IntegerType,true),StructField(casosAcumulado,IntegerType,true),StructField(casosNovos,IntegerType,true),StructField(obitosAcumulado,IntegerType,true),StructField(obitosNovos,IntegerType,true),StructField(Recuperadosnovos,IntegerType,true),StructField(emAcompanhamentoNovos,IntegerType,true),StructField(interior/metropolitana,IntegerType,true)))"
      ]
     },
     "execution_count": 5,
     "metadata": {},
     "output_type": "execute_result"
    }
   ],
   "source": [
    "schema = StructType()\n",
    "(\n",
    "    schema\n",
    "    .add(\"regiao\", \"string\", True)\n",
    "    .add(\"estado\", \"string\", True)\n",
    "    .add(\"municipio\", \"string\", True)\n",
    "    .add(\"coduf\", \"integer\", True)\n",
    "    .add(\"codmun\", \"integer\", True)\n",
    "    .add(\"codRegiaoSaude\", \"integer\", True)\n",
    "    .add(\"nomeRegiaoSaude\", \"string\", True)\n",
    "    .add(\"data\", \"date\", True)\n",
    "    .add(\"semanaEpi\", \"integer\", True)\n",
    "    .add(\"populacaoTCU2019\", \"integer\", True)\n",
    "    .add(\"casosAcumulado\", \"integer\", True)\n",
    "    .add(\"casosNovos\", \"integer\", True)\n",
    "    .add(\"obitosAcumulado\", \"integer\", True)\n",
    "    .add(\"obitosNovos\", \"integer\", True)\n",
    "    .add(\"Recuperadosnovos\", \"integer\", True)\n",
    "    .add(\"emAcompanhamentoNovos\", \"integer\", True)\n",
    "    .add(\"interior/metropolitana\", \"integer\", True)\n",
    ")"
   ]
  },
  {
   "cell_type": "code",
   "execution_count": 8,
   "metadata": {},
   "outputs": [],
   "source": [
    "# Lendo dados\n",
    "df = (\n",
    "    spark\n",
    "    .read\n",
    "    .csv(\"/user/fabio/data/covid_bash/raw\", schema=schema, sep=\";\", header=True)\n",
    ")"
   ]
  },
  {
   "cell_type": "code",
   "execution_count": 9,
   "metadata": {},
   "outputs": [],
   "source": [
    "# Limpeza dos dados\n",
    "df = (\n",
    "    df\n",
    "    .filter(col(\"estado\").isNotNull() & col(\"municipio\").isNotNull())\n",
    "    .na.fill(0, [\"casosAcumulado\"])\n",
    "    .na.fill(0, [\"casosNovos\"])\n",
    "    .na.fill(0, [\"obitosAcumulado\"])\n",
    "    .na.fill(0, [\"obitosNovos\"])\n",
    "    .na.fill(0, [\"Recuperadosnovos\"])\n",
    "    .na.fill(0, [\"emAcompanhamentoNovos\"])\n",
    ")"
   ]
  },
  {
   "cell_type": "code",
   "execution_count": 10,
   "metadata": {},
   "outputs": [],
   "source": [
    "# Enviando os dados para o HDFS\n",
    "(\n",
    "    df\n",
    "    .write\n",
    "    .mode(\"overwrite\")\n",
    "    .parquet(\"/user/fabio/data/covid_bash/stage\")\n",
    ")"
   ]
  },
  {
   "cell_type": "code",
   "execution_count": 11,
   "metadata": {},
   "outputs": [],
   "source": [
    "# Lendo os dados do HDFS\n",
    "df = (\n",
    "    spark\n",
    "    .read\n",
    "    .parquet(\"/user/fabio/data/covid_bash/stage\")\n",
    ")"
   ]
  },
  {
   "cell_type": "code",
   "execution_count": null,
   "metadata": {},
   "outputs": [],
   "source": [
    "# Otimizando os dados do HDFS para uma tabela Hive particionada por Município\n",
    "(\n",
    "    df\n",
    "    .write\n",
    "    .mode(\"overwrite\")\n",
    "    .saveAsTable(\"covid_bash_stage\", partitionBy=\"municipio\")\n",
    ")"
   ]
  },
  {
   "cell_type": "code",
   "execution_count": 12,
   "metadata": {},
   "outputs": [],
   "source": [
    "# Obtendo a última data de registro de dados\n",
    "last_date = df.select(\"data\").agg(max(df.data)).collect()[0][0]"
   ]
  },
  {
   "cell_type": "code",
   "execution_count": 13,
   "metadata": {},
   "outputs": [],
   "source": [
    "# Contabilizando dados\n",
    "recuperados_acumulado_df = (\n",
    "    df\n",
    "    .select(\"casosAcumulado\")\n",
    "    .where(f\"data='{last_date}'\")\n",
    "    .agg(sum(df.casosAcumulado).alias(\"casosAcumulado\"))\n",
    ").collect()[0][0]\n",
    "obitos_acumulados_df = (\n",
    "    df\n",
    "    .select(\"obitosAcumulado\")\n",
    "    .where(f\"data='{last_date}'\")\n",
    "    .agg(sum(df.obitosAcumulado).alias(\"obitosAcumulado\"))\n",
    ").collect()[0][0]\n",
    "acompanhamento_df = (\n",
    "    df\n",
    "    .select(\"casosNovos\")\n",
    "    .where(f\"data>'{last_date - timedelta(14)}'\")\n",
    "    .agg(sum(df.casosNovos).alias(\"acompanhamento\"))\n",
    ").collect()[0][0]"
   ]
  },
  {
   "cell_type": "code",
   "execution_count": 14,
   "metadata": {},
   "outputs": [
    {
     "name": "stdout",
     "output_type": "stream",
     "text": [
      "+--------------+-----------+\n",
      "|acompanhamento|recuperados|\n",
      "+--------------+-----------+\n",
      "|        799667|   18288779|\n",
      "+--------------+-----------+\n",
      "\n"
     ]
    }
   ],
   "source": [
    "# Criando a primeira visualização\n",
    "data = [Row(recuperados=recuperados_acumulado_df-obitos_acumulados_df, acompanhamento=acompanhamento_df)]\n",
    "recuperados_df = spark.createDataFrame(data)\n",
    "recuperados_df.show()"
   ]
  },
  {
   "cell_type": "code",
   "execution_count": 15,
   "metadata": {},
   "outputs": [],
   "source": [
    "# Realizando filtro e agregação dos dados\n",
    "casos_df = (\n",
    "    df\n",
    "    .select(\"casosAcumulado\", \"casosNovos\", \"populacaoTCU2019\")\n",
    "    .where(f\"data='{last_date}'\")\n",
    "    .agg(sum(df.casosAcumulado).alias(\"casosAcumulado\"), sum(df.casosNovos).alias(\"casosNovos\"), sum(df.populacaoTCU2019).alias(\"populacaoTCU2019\"))\n",
    ")"
   ]
  },
  {
   "cell_type": "code",
   "execution_count": 16,
   "metadata": {},
   "outputs": [
    {
     "name": "stdout",
     "output_type": "stream",
     "text": [
      "+--------------+----------+----------+\n",
      "|casosAcumulado|casosNovos|incidencia|\n",
      "+--------------+----------+----------+\n",
      "|      18814678|     62623|    8953.1|\n",
      "+--------------+----------+----------+\n",
      "\n"
     ]
    }
   ],
   "source": [
    "# Criando a segunda vizualização\n",
    "casos_df = (\n",
    "    casos_df\n",
    "    .withColumn(\"incidencia\", round(casos_df.casosAcumulado*100000/casos_df.populacaoTCU2019, 1))\n",
    "    .select(\"casosAcumulado\", \"casosNovos\", \"incidencia\")\n",
    ")\n",
    "casos_df.show()"
   ]
  },
  {
   "cell_type": "code",
   "execution_count": 17,
   "metadata": {},
   "outputs": [],
   "source": [
    "# Realizando filtro e agregação dos dados\n",
    "obitos_df = (\n",
    "    df\n",
    "    .select(\"casosAcumulado\", \"obitosAcumulado\", \"obitosNovos\", \"populacaoTCU2019\")\n",
    "    .where(f\"data='{last_date}'\")\n",
    "    .agg(sum(df.casosAcumulado).alias(\"casosAcumulado\"), sum(df.obitosAcumulado).alias(\"obitosAcumulado\"), sum(df.obitosNovos).alias(\"obitosNovos\"), sum(df.populacaoTCU2019).alias(\"populacaoTCU2019\"))\n",
    ")"
   ]
  },
  {
   "cell_type": "code",
   "execution_count": 18,
   "metadata": {},
   "outputs": [
    {
     "name": "stdout",
     "output_type": "stream",
     "text": [
      "+---------------+-----------+----------+-----------+\n",
      "|obitosAcumulado|obitosNovos|letalidade|mortalidade|\n",
      "+---------------+-----------+----------+-----------+\n",
      "|         525899|       1776|       2.8|      250.3|\n",
      "+---------------+-----------+----------+-----------+\n",
      "\n"
     ]
    }
   ],
   "source": [
    "# Criando a terceira vizualização\n",
    "obitos_df = (\n",
    "    obitos_df\n",
    "    .withColumn(\"letalidade\", round(obitos_df.obitosAcumulado*100/obitos_df.casosAcumulado, 1))\n",
    "    .withColumn(\"mortalidade\", round(obitos_df.obitosAcumulado*100000/obitos_df.populacaoTCU2019, 1))\n",
    "    .select(\"obitosAcumulado\", \"obitosNovos\", \"letalidade\", \"mortalidade\")\n",
    ")\n",
    "obitos_df.show()"
   ]
  },
  {
   "cell_type": "code",
   "execution_count": 19,
   "metadata": {},
   "outputs": [],
   "source": [
    "# Salvando a primeira vizualização como tabela Hive\n",
    "(\n",
    "    recuperados_df\n",
    "    .write\n",
    "    .mode(\"overwrite\")\n",
    "    .saveAsTable(\"covid_bash_recuperados\")\n",
    ")"
   ]
  },
  {
   "cell_type": "code",
   "execution_count": 20,
   "metadata": {},
   "outputs": [],
   "source": [
    "# Salvando a segunda vizualização no formato parquet e compressão snappy\n",
    "(\n",
    "    casos_df\n",
    "    .write\n",
    "    .mode(\"overwrite\")\n",
    "    .parquet(\"/user/fabio/data/covid_bash/refined\", compression=\"snappy\")\n",
    ")"
   ]
  },
  {
   "cell_type": "code",
   "execution_count": 21,
   "metadata": {},
   "outputs": [],
   "source": [
    "# Salvando a terceira vizualização em um tópico kafka\n",
    "(\n",
    "    obitos_df\n",
    "    .selectExpr(\"'obitosAcumulado' as key\", \"CAST(obitosAcumulado as string) as value\")\n",
    "    .write\n",
    "    .format(\"kafka\")\n",
    "    .option(\"kafka.bootstrap.servers\", \"kafka:9092\")\n",
    "    .option(\"topic\", \"topic-covid-obitos\")\n",
    "    .save()\n",
    ")"
   ]
  },
  {
   "cell_type": "code",
   "execution_count": 22,
   "metadata": {},
   "outputs": [],
   "source": [
    "# Salvando a terceira vizualização em um tópico kafka\n",
    "(\n",
    "    obitos_df\n",
    "    .selectExpr(\"'obitosNovos' as key\", \"CAST(obitosNovos as string) as value\")\n",
    "    .write\n",
    "    .format(\"kafka\")\n",
    "    .option(\"kafka.bootstrap.servers\", \"kafka:9092\")\n",
    "    .option(\"topic\", \"topic-covid-obitos\")\n",
    "    .save()\n",
    ")"
   ]
  },
  {
   "cell_type": "code",
   "execution_count": 23,
   "metadata": {},
   "outputs": [],
   "source": [
    "# Salvando a terceira vizualização em um tópico kafka\n",
    "(\n",
    "    obitos_df\n",
    "    .selectExpr(\"'letalidade' as key\", \"CAST(letalidade as string) as value\")\n",
    "    .write\n",
    "    .format(\"kafka\")\n",
    "    .option(\"kafka.bootstrap.servers\", \"kafka:9092\")\n",
    "    .option(\"topic\", \"topic-covid-obitos\")\n",
    "    .save()\n",
    ")"
   ]
  },
  {
   "cell_type": "code",
   "execution_count": 24,
   "metadata": {},
   "outputs": [],
   "source": [
    "# Salvando a terceira vizualização em um tópico kafka\n",
    "(\n",
    "    obitos_df\n",
    "    .selectExpr(\"'mortalidade' as key\", \"CAST(mortalidade as string) as value\")\n",
    "    .write\n",
    "    .format(\"kafka\")\n",
    "    .option(\"kafka.bootstrap.servers\", \"kafka:9092\")\n",
    "    .option(\"topic\", \"topic-covid-obitos\")\n",
    "    .save()\n",
    ")"
   ]
  },
  {
   "cell_type": "code",
   "execution_count": 25,
   "metadata": {},
   "outputs": [],
   "source": [
    "# Realizando filtro e agregação dos dados por região\n",
    "regioes_df = (\n",
    "    df\n",
    "    .select(\"regiao\", \"casosAcumulado\", \"obitosAcumulado\", \"populacaoTCU2019\", \"data\")\n",
    "    .where(f\"data='{last_date}'\")\n",
    "    .groupBy(\"regiao\", \"data\")\n",
    "    .agg(sum(df.casosAcumulado).alias(\"casos\"), sum(df.obitosAcumulado).alias(\"obitos\"), sum(df.populacaoTCU2019).alias(\"populacaoTCU2019\"))\n",
    ")"
   ]
  },
  {
   "cell_type": "code",
   "execution_count": 26,
   "metadata": {},
   "outputs": [
    {
     "name": "stdout",
     "output_type": "stream",
     "text": [
      "+------------+-------+------+----------+-----------+----------+\n",
      "|      regiao|  casos|obitos|incidencia|mortalidade|      data|\n",
      "+------------+-------+------+----------+-----------+----------+\n",
      "|Centro-Oeste|1916619| 49207|   11760.5|      301.9|2021-07-06|\n",
      "|    Nordeste|4434293|107560|    7769.7|      188.5|2021-07-06|\n",
      "|       Norte|1730197| 43830|    9387.4|      237.8|2021-07-06|\n",
      "|     Sudeste|7129450|244771|    8067.6|      277.0|2021-07-06|\n",
      "|         Sul|3604119| 80531|   12023.4|      268.7|2021-07-06|\n",
      "+------------+-------+------+----------+-----------+----------+\n",
      "\n"
     ]
    }
   ],
   "source": [
    "# Criando visualização dos dados do HDFS por regiões\n",
    "regioes_df = (\n",
    "    regioes_df\n",
    "    .withColumn(\"incidencia\", round(regioes_df.casos*100000/regioes_df.populacaoTCU2019, 1))\n",
    "    .withColumn(\"mortalidade\", round(regioes_df.obitos*100000/regioes_df.populacaoTCU2019, 1))\n",
    "    .select(\"regiao\", \"casos\", \"obitos\", \"incidencia\", \"mortalidade\", \"data\")\n",
    "    .orderBy(\"regiao\")\n",
    ")\n",
    "regioes_df.show()"
   ]
  }
 ],
 "metadata": {
  "kernelspec": {
   "display_name": "PySpark",
   "language": "python",
   "name": "pyspark"
  },
  "language_info": {
   "codemirror_mode": {
    "name": "ipython",
    "version": 3
   },
   "file_extension": ".py",
   "mimetype": "text/x-python",
   "name": "python",
   "nbconvert_exporter": "python",
   "pygments_lexer": "ipython3",
   "version": "3.6.10"
  }
 },
 "nbformat": 4,
 "nbformat_minor": 2
}
